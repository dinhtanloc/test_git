{
 "cells": [
  {
   "cell_type": "code",
   "execution_count": null,
   "id": "022a66b7",
   "metadata": {},
   "outputs": [],
   "source": [
    "import pandas as pd\n",
    "from sklearn.feature_extraction.text import TfidfVectorizer\n",
    "from sklearn.model_selection import train_test_split\n",
    "import lightgbm as lgb\n",
    "\n",
    "# Ví dụ dataset\n",
    "data = pd.DataFrame({\n",
    "    'text': [\"I love this!\", \"This is terrible\", \"Amazing product\", \"Horrible experience\"],\n",
    "    'y': [1, 0, 1, 0]\n",
    "})\n",
    "\n",
    "# TF-IDF\n",
    "vectorizer = TfidfVectorizer(max_features=100)\n",
    "X = vectorizer.fit_transform(data['text'])\n",
    "y = data['y']\n",
    "\n",
    "# Train/test split\n",
    "X_train, X_test, y_train, y_test = train_test_split(X, y, test_size=0.5, random_state=42)\n"
   ]
  },
  {
   "cell_type": "code",
   "execution_count": null,
   "id": "1ff83f34",
   "metadata": {},
   "outputs": [],
   "source": [
    "lgb_train = lgb.Dataset(X_train, label=y_train)\n",
    "lgb_eval = lgb.Dataset(X_test, label=y_test, reference=lgb_train)\n",
    "\n",
    "params = {\n",
    "    'objective': 'binary',\n",
    "    'metric': 'binary_logloss',\n",
    "    'verbose': -1\n",
    "}\n",
    "\n",
    "model = lgb.train(params, lgb_train, num_boost_round=50, valid_sets=[lgb_eval], early_stopping_rounds=10)\n"
   ]
  },
  {
   "cell_type": "code",
   "execution_count": null,
   "id": "63fbe283",
   "metadata": {},
   "outputs": [],
   "source": [
    "import shap\n",
    "import matplotlib.pyplot as plt\n",
    "\n",
    "# Lấy explainer\n",
    "explainer = shap.TreeExplainer(model)\n",
    "shap_values = explainer.shap_values(X_test)\n",
    "\n",
    "# Visualize cho một sample\n",
    "shap.initjs()\n",
    "shap.force_plot(explainer.expected_value, shap_values[0], feature_names=vectorizer.get_feature_names_out())\n"
   ]
  },
  {
   "cell_type": "code",
   "execution_count": null,
   "id": "79dbe614",
   "metadata": {},
   "outputs": [],
   "source": [
    "from lime.lime_text import LimeTextExplainer\n",
    "import numpy as np\n",
    "\n",
    "# LIME với text\n",
    "class_names = ['No', 'Yes']\n",
    "explainer = LimeTextExplainer(class_names=class_names)\n",
    "\n",
    "# Lấy model dự đoán\n",
    "def predict_proba(texts):\n",
    "    X_vect = vectorizer.transform(texts)\n",
    "    return model.predict(X_vect, raw_score=False).reshape(-1, 1)  # cần shape (n_samples, n_classes)\n",
    "\n",
    "# Giải thích sample đầu tiên\n",
    "i = 0\n",
    "exp = explainer.explain_instance(data['text'].iloc[i], predict_proba, num_features=5)\n",
    "exp.show_in_notebook(text=True)\n"
   ]
  }
 ],
 "metadata": {
  "language_info": {
   "name": "python"
  }
 },
 "nbformat": 4,
 "nbformat_minor": 5
}
